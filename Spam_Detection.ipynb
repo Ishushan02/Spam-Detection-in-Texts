{
  "nbformat": 4,
  "nbformat_minor": 0,
  "metadata": {
    "colab": {
      "name": "Spam_Detection.ipynb",
      "provenance": [],
      "collapsed_sections": []
    },
    "kernelspec": {
      "name": "python3",
      "display_name": "Python 3"
    },
    "language_info": {
      "name": "python"
    }
  },
  "cells": [
    {
      "cell_type": "markdown",
      "metadata": {
        "id": "Of2-4I9qKwXL"
      },
      "source": [
        "Importing the Required Libraries"
      ]
    },
    {
      "cell_type": "code",
      "metadata": {
        "id": "nQjrB3LJayQ0"
      },
      "source": [
        "import tensorflow as tf\n",
        "from tensorflow import keras\n",
        "import numpy as np\n",
        "import pandas as pd\n",
        "import tensorflow_hub as tf_hub\n",
        "import re\n",
        "import matplotlib.pyplot as plt\n",
        "from tensorflow.keras.preprocessing.text import Tokenizer\n",
        "from tensorflow.keras.preprocessing.sequence import pad_sequences\n",
        "from sklearn.model_selection import train_test_split"
      ],
      "execution_count": 222,
      "outputs": []
    },
    {
      "cell_type": "markdown",
      "metadata": {
        "id": "Y_SwvwtAK18_"
      },
      "source": [
        "Uploading the Dataset"
      ]
    },
    {
      "cell_type": "code",
      "metadata": {
        "colab": {
          "base_uri": "https://localhost:8080/",
          "height": 204
        },
        "id": "GVgu3okmbYGi",
        "outputId": "d101d49b-9c65-446c-9db4-34b82b56acc4"
      },
      "source": [
        "data = pd.read_csv(\"Spam_dataset.csv\", names = ['label', 'text'], sep = ',', encoding= 'latin-1')\n",
        "data.head()"
      ],
      "execution_count": 223,
      "outputs": [
        {
          "output_type": "execute_result",
          "data": {
            "text/html": [
              "<div>\n",
              "<style scoped>\n",
              "    .dataframe tbody tr th:only-of-type {\n",
              "        vertical-align: middle;\n",
              "    }\n",
              "\n",
              "    .dataframe tbody tr th {\n",
              "        vertical-align: top;\n",
              "    }\n",
              "\n",
              "    .dataframe thead th {\n",
              "        text-align: right;\n",
              "    }\n",
              "</style>\n",
              "<table border=\"1\" class=\"dataframe\">\n",
              "  <thead>\n",
              "    <tr style=\"text-align: right;\">\n",
              "      <th></th>\n",
              "      <th>label</th>\n",
              "      <th>text</th>\n",
              "    </tr>\n",
              "  </thead>\n",
              "  <tbody>\n",
              "    <tr>\n",
              "      <th>0</th>\n",
              "      <td>ham</td>\n",
              "      <td>Go until jurong point, crazy.. Available only ...</td>\n",
              "    </tr>\n",
              "    <tr>\n",
              "      <th>1</th>\n",
              "      <td>ham</td>\n",
              "      <td>Ok lar... Joking wif u oni...</td>\n",
              "    </tr>\n",
              "    <tr>\n",
              "      <th>2</th>\n",
              "      <td>spam</td>\n",
              "      <td>Free entry in 2 a wkly comp to win FA Cup fina...</td>\n",
              "    </tr>\n",
              "    <tr>\n",
              "      <th>3</th>\n",
              "      <td>ham</td>\n",
              "      <td>U dun say so early hor... U c already then say...</td>\n",
              "    </tr>\n",
              "    <tr>\n",
              "      <th>4</th>\n",
              "      <td>ham</td>\n",
              "      <td>Nah I don't think he goes to usf, he lives aro...</td>\n",
              "    </tr>\n",
              "  </tbody>\n",
              "</table>\n",
              "</div>"
            ],
            "text/plain": [
              "  label                                               text\n",
              "0   ham  Go until jurong point, crazy.. Available only ...\n",
              "1   ham                      Ok lar... Joking wif u oni...\n",
              "2  spam  Free entry in 2 a wkly comp to win FA Cup fina...\n",
              "3   ham  U dun say so early hor... U c already then say...\n",
              "4   ham  Nah I don't think he goes to usf, he lives aro..."
            ]
          },
          "metadata": {
            "tags": []
          },
          "execution_count": 223
        }
      ]
    },
    {
      "cell_type": "markdown",
      "metadata": {
        "id": "NaGIVTKeK8E7"
      },
      "source": [
        "Shape of Data"
      ]
    },
    {
      "cell_type": "code",
      "metadata": {
        "colab": {
          "base_uri": "https://localhost:8080/"
        },
        "id": "3cGTp94UbkEp",
        "outputId": "f08b5bd1-1cc3-42ab-c504-8e00b2dced95"
      },
      "source": [
        "data.shape"
      ],
      "execution_count": 224,
      "outputs": [
        {
          "output_type": "execute_result",
          "data": {
            "text/plain": [
              "(5572, 2)"
            ]
          },
          "metadata": {
            "tags": []
          },
          "execution_count": 224
        }
      ]
    },
    {
      "cell_type": "markdown",
      "metadata": {
        "id": "4--sYd7KK-T8"
      },
      "source": [
        "Checking whether if there is Null data or not."
      ]
    },
    {
      "cell_type": "code",
      "metadata": {
        "colab": {
          "base_uri": "https://localhost:8080/"
        },
        "id": "xZA8Rt3QeBE2",
        "outputId": "dea17356-3b6f-4730-df24-50c6766aa397"
      },
      "source": [
        "data.isnull().sum()"
      ],
      "execution_count": 225,
      "outputs": [
        {
          "output_type": "execute_result",
          "data": {
            "text/plain": [
              "label    0\n",
              "text     0\n",
              "dtype: int64"
            ]
          },
          "metadata": {
            "tags": []
          },
          "execution_count": 225
        }
      ]
    },
    {
      "cell_type": "code",
      "metadata": {
        "colab": {
          "base_uri": "https://localhost:8080/",
          "height": 173
        },
        "id": "lyiiz2LLeLUW",
        "outputId": "5191c981-ea2c-4529-caa5-38d6934df7c2"
      },
      "source": [
        "data.describe()"
      ],
      "execution_count": 226,
      "outputs": [
        {
          "output_type": "execute_result",
          "data": {
            "text/html": [
              "<div>\n",
              "<style scoped>\n",
              "    .dataframe tbody tr th:only-of-type {\n",
              "        vertical-align: middle;\n",
              "    }\n",
              "\n",
              "    .dataframe tbody tr th {\n",
              "        vertical-align: top;\n",
              "    }\n",
              "\n",
              "    .dataframe thead th {\n",
              "        text-align: right;\n",
              "    }\n",
              "</style>\n",
              "<table border=\"1\" class=\"dataframe\">\n",
              "  <thead>\n",
              "    <tr style=\"text-align: right;\">\n",
              "      <th></th>\n",
              "      <th>label</th>\n",
              "      <th>text</th>\n",
              "    </tr>\n",
              "  </thead>\n",
              "  <tbody>\n",
              "    <tr>\n",
              "      <th>count</th>\n",
              "      <td>5572</td>\n",
              "      <td>5572</td>\n",
              "    </tr>\n",
              "    <tr>\n",
              "      <th>unique</th>\n",
              "      <td>2</td>\n",
              "      <td>5169</td>\n",
              "    </tr>\n",
              "    <tr>\n",
              "      <th>top</th>\n",
              "      <td>ham</td>\n",
              "      <td>Sorry, I'll call later</td>\n",
              "    </tr>\n",
              "    <tr>\n",
              "      <th>freq</th>\n",
              "      <td>4825</td>\n",
              "      <td>30</td>\n",
              "    </tr>\n",
              "  </tbody>\n",
              "</table>\n",
              "</div>"
            ],
            "text/plain": [
              "       label                    text\n",
              "count   5572                    5572\n",
              "unique     2                    5169\n",
              "top      ham  Sorry, I'll call later\n",
              "freq    4825                      30"
            ]
          },
          "metadata": {
            "tags": []
          },
          "execution_count": 226
        }
      ]
    },
    {
      "cell_type": "markdown",
      "metadata": {
        "id": "6aOS8NBmMId0"
      },
      "source": [
        "Pie Chart for  seeing the ratio of Spam and Not Spam Labels"
      ]
    },
    {
      "cell_type": "code",
      "metadata": {
        "colab": {
          "base_uri": "https://localhost:8080/",
          "height": 427
        },
        "id": "xIaKZXSPc3dK",
        "outputId": "effa8c9a-85ec-49ce-c9eb-ccfcf158806f"
      },
      "source": [
        "data[\"label\"].value_counts().plot(kind = 'pie',explode=[0, 0.3],figsize=(7, 7),autopct='%1.1f%%',shadow=True)\n",
        "plt.title(\"Spam vs Ham\")\n",
        "plt.legend([\"Ham\", \"Spam\"])\n",
        "plt.show()"
      ],
      "execution_count": 227,
      "outputs": [
        {
          "output_type": "display_data",
          "data": {
            "image/png": "[encoded data removed]",
            "text/plain": [
              "<Figure size 504x504 with 1 Axes>"
            ]
          },
          "metadata": {
            "tags": []
          }
        }
      ]
    },
    {
      "cell_type": "code",
      "metadata": {
        "colab": {
          "base_uri": "https://localhost:8080/"
        },
        "id": "ZHrgYPktdUAQ",
        "outputId": "a38b5807-4e4c-4fbc-b870-795bb20cef6c"
      },
      "source": [
        "data['text']"
      ],
      "execution_count": 228,
      "outputs": [
        {
          "output_type": "execute_result",
          "data": {
            "text/plain": [
              "0       Go until jurong point, crazy.. Available only ...\n",
              "1                           Ok lar... Joking wif u oni...\n",
              "2       Free entry in 2 a wkly comp to win FA Cup fina...\n",
              "3       U dun say so early hor... U c already then say...\n",
              "4       Nah I don't think he goes to usf, he lives aro...\n",
              "                              ...                        \n",
              "5567    This is the 2nd time we have tried 2 contact u...\n",
              "5568                Will ?¬ b going to esplanade fr home?\n",
              "5569    Pity, * was in mood for that. So...any other s...\n",
              "5570    The guy did some bitching but I acted like i'd...\n",
              "5571                           Rofl. Its true to its name\n",
              "Name: text, Length: 5572, dtype: object"
            ]
          },
          "metadata": {
            "tags": []
          },
          "execution_count": 228
        }
      ]
    },
    {
      "cell_type": "markdown",
      "metadata": {
        "id": "3rK0AMUzMUCB"
      },
      "source": [
        "Removing the Special Characters from text"
      ]
    },
    {
      "cell_type": "code",
      "metadata": {
        "colab": {
          "base_uri": "https://localhost:8080/"
        },
        "id": "m10w04KHdzHG",
        "outputId": "308f921b-572e-4217-a4d7-b65e348f23b9"
      },
      "source": [
        "def remove_Special_Characters(string):\n",
        "    return re.sub('[^A-Za-z,]+', ' ', string)\n",
        "    #return re.sub(pattern, '', string)\n",
        "      \n",
        "string = ' I $ S %  H  A 124*&^%$#@! N'\n",
        "print(remove_Special_Characters(string))"
      ],
      "execution_count": 229,
      "outputs": [
        {
          "output_type": "stream",
          "text": [
            " I S H A N\n"
          ],
          "name": "stdout"
        }
      ]
    },
    {
      "cell_type": "code",
      "metadata": {
        "colab": {
          "base_uri": "https://localhost:8080/",
          "height": 35
        },
        "id": "aqOZyqIeej4H",
        "outputId": "e5b07469-5673-4407-d0ae-2d68315247ce"
      },
      "source": [
        "data['text'][5569]"
      ],
      "execution_count": 230,
      "outputs": [
        {
          "output_type": "execute_result",
          "data": {
            "application/vnd.google.colaboratory.intrinsic+json": {
              "type": "string"
            },
            "text/plain": [
              "'Pity, * was in mood for that. So...any other suggestions?'"
            ]
          },
          "metadata": {
            "tags": []
          },
          "execution_count": 230
        }
      ]
    },
    {
      "cell_type": "code",
      "metadata": {
        "colab": {
          "base_uri": "https://localhost:8080/",
          "height": 35
        },
        "id": "BI5UICcBeZHA",
        "outputId": "a1055f2c-8dfd-43f4-8a09-413029a7b457"
      },
      "source": [
        "remove_Special_Characters(data['text'][5569])"
      ],
      "execution_count": 231,
      "outputs": [
        {
          "output_type": "execute_result",
          "data": {
            "application/vnd.google.colaboratory.intrinsic+json": {
              "type": "string"
            },
            "text/plain": [
              "'Pity, was in mood for that So any other suggestions '"
            ]
          },
          "metadata": {
            "tags": []
          },
          "execution_count": 231
        }
      ]
    },
    {
      "cell_type": "code",
      "metadata": {
        "id": "fGdBuNiPeiA7"
      },
      "source": [
        "for i in range(len(data['text'])):\n",
        "  data['text'][i] = remove_Special_Characters(data['text'][i])"
      ],
      "execution_count": 232,
      "outputs": []
    },
    {
      "cell_type": "markdown",
      "metadata": {
        "id": "HNJ2OenZM9oY"
      },
      "source": [
        "Labeling the SPam and Ham type strings to 1 and 0 respectively"
      ]
    },
    {
      "cell_type": "code",
      "metadata": {
        "id": "Lco-KH5MoMG-"
      },
      "source": [
        "data['label'] = data['label'].replace(to_replace = {\"ham\":0, \"spam\":1})"
      ],
      "execution_count": 233,
      "outputs": []
    },
    {
      "cell_type": "code",
      "metadata": {
        "colab": {
          "base_uri": "https://localhost:8080/",
          "height": 204
        },
        "id": "EJ6R70V3os_T",
        "outputId": "cef667b8-0d8c-4680-8059-e0bc4b26f537"
      },
      "source": [
        "data.tail()"
      ],
      "execution_count": 293,
      "outputs": [
        {
          "output_type": "execute_result",
          "data": {
            "text/html": [
              "<div>\n",
              "<style scoped>\n",
              "    .dataframe tbody tr th:only-of-type {\n",
              "        vertical-align: middle;\n",
              "    }\n",
              "\n",
              "    .dataframe tbody tr th {\n",
              "        vertical-align: top;\n",
              "    }\n",
              "\n",
              "    .dataframe thead th {\n",
              "        text-align: right;\n",
              "    }\n",
              "</style>\n",
              "<table border=\"1\" class=\"dataframe\">\n",
              "  <thead>\n",
              "    <tr style=\"text-align: right;\">\n",
              "      <th></th>\n",
              "      <th>label</th>\n",
              "      <th>text</th>\n",
              "    </tr>\n",
              "  </thead>\n",
              "  <tbody>\n",
              "    <tr>\n",
              "      <th>5567</th>\n",
              "      <td>1</td>\n",
              "      <td>This is the nd time we have tried contact u U ...</td>\n",
              "    </tr>\n",
              "    <tr>\n",
              "      <th>5568</th>\n",
              "      <td>0</td>\n",
              "      <td>Will b going to esplanade fr home</td>\n",
              "    </tr>\n",
              "    <tr>\n",
              "      <th>5569</th>\n",
              "      <td>0</td>\n",
              "      <td>Pity, was in mood for that So any other sugges...</td>\n",
              "    </tr>\n",
              "    <tr>\n",
              "      <th>5570</th>\n",
              "      <td>0</td>\n",
              "      <td>The guy did some bitching but I acted like i d...</td>\n",
              "    </tr>\n",
              "    <tr>\n",
              "      <th>5571</th>\n",
              "      <td>0</td>\n",
              "      <td>Rofl Its true to its name</td>\n",
              "    </tr>\n",
              "  </tbody>\n",
              "</table>\n",
              "</div>"
            ],
            "text/plain": [
              "      label                                               text\n",
              "5567      1  This is the nd time we have tried contact u U ...\n",
              "5568      0                 Will b going to esplanade fr home \n",
              "5569      0  Pity, was in mood for that So any other sugges...\n",
              "5570      0  The guy did some bitching but I acted like i d...\n",
              "5571      0                          Rofl Its true to its name"
            ]
          },
          "metadata": {
            "tags": []
          },
          "execution_count": 293
        }
      ]
    },
    {
      "cell_type": "code",
      "metadata": {
        "colab": {
          "base_uri": "https://localhost:8080/",
          "height": 35
        },
        "id": "kQwaI93WD01s",
        "outputId": "7563d9a8-0e3a-461b-e10c-4682b03662da"
      },
      "source": [
        "data['text'][5567]"
      ],
      "execution_count": 324,
      "outputs": [
        {
          "output_type": "execute_result",
          "data": {
            "application/vnd.google.colaboratory.intrinsic+json": {
              "type": "string"
            },
            "text/plain": [
              "'This is the nd time we have tried contact u U have won the Pound prize claim is easy, call NOW Only p per minute BT national rate '"
            ]
          },
          "metadata": {
            "tags": []
          },
          "execution_count": 324
        }
      ]
    },
    {
      "cell_type": "code",
      "metadata": {
        "colab": {
          "base_uri": "https://localhost:8080/"
        },
        "id": "637AUu7thbNw",
        "outputId": "ca80b1f4-4e3b-44e8-e7e9-51997cc06a13"
      },
      "source": [
        "data['text']"
      ],
      "execution_count": 235,
      "outputs": [
        {
          "output_type": "execute_result",
          "data": {
            "text/plain": [
              "0       Go until jurong point, crazy Available only in...\n",
              "1                                Ok lar Joking wif u oni \n",
              "2       Free entry in a wkly comp to win FA Cup final ...\n",
              "3            U dun say so early hor U c already then say \n",
              "4       Nah I don t think he goes to usf, he lives aro...\n",
              "                              ...                        \n",
              "5567    This is the nd time we have tried contact u U ...\n",
              "5568                   Will b going to esplanade fr home \n",
              "5569    Pity, was in mood for that So any other sugges...\n",
              "5570    The guy did some bitching but I acted like i d...\n",
              "5571                            Rofl Its true to its name\n",
              "Name: text, Length: 5572, dtype: object"
            ]
          },
          "metadata": {
            "tags": []
          },
          "execution_count": 235
        }
      ]
    },
    {
      "cell_type": "markdown",
      "metadata": {
        "id": "NqPVXF99NHMW"
      },
      "source": [
        "Making the sentence of each row text and label lists "
      ]
    },
    {
      "cell_type": "code",
      "metadata": {
        "id": "c3FXcWZn_s4a"
      },
      "source": [
        "sentence_data = []\n",
        "sentence_label = []\n",
        "for i in range(len(data['text'])):\n",
        "  sentence_data.append(data['text'][i])\n",
        "  sentence_label.append(data['label'][i])"
      ],
      "execution_count": 306,
      "outputs": []
    },
    {
      "cell_type": "markdown",
      "metadata": {
        "id": "O7XSFlOHOKKI"
      },
      "source": [
        "Splitting the dataset into Training and Testing Data"
      ]
    },
    {
      "cell_type": "code",
      "metadata": {
        "id": "Y2Hc8i9Gt6NU"
      },
      "source": [
        "X_train, X_test, y_train, y_test =  train_test_split(sentence_data, sentence_label, test_size = 0.2, random_state = 42)"
      ],
      "execution_count": 307,
      "outputs": []
    },
    {
      "cell_type": "markdown",
      "metadata": {
        "id": "GsOhn0ywOQRW"
      },
      "source": [
        "Converting  texts to numbers and padding them so that all sentence should be of same length"
      ]
    },
    {
      "cell_type": "code",
      "metadata": {
        "colab": {
          "base_uri": "https://localhost:8080/"
        },
        "id": "yTrGMIPpmFRz",
        "outputId": "59672821-8758-458f-cfb0-4a294fd8bec8"
      },
      "source": [
        "vocab_size = 8000\n",
        "max_length = 25\n",
        "\n",
        "\n",
        "tokenizer = Tokenizer(num_words = vocab_size)\n",
        "tokenizer.fit_on_texts(X_train)\n",
        "train_sequences = tokenizer.texts_to_sequences(X_train)\n",
        "train_sequences = pad_sequences(train_sequences, maxlen = max_lenght, padding = 'post')\n",
        "#input_sequences[0]\n",
        "total_words = len(tokenizer.word_index) + 1\n",
        "total_words"
      ],
      "execution_count": 313,
      "outputs": [
        {
          "output_type": "execute_result",
          "data": {
            "text/plain": [
              "6895"
            ]
          },
          "metadata": {
            "tags": []
          },
          "execution_count": 313
        }
      ]
    },
    {
      "cell_type": "code",
      "metadata": {
        "id": "IZGdGeNgAxfD"
      },
      "source": [
        "test_sequences = tokenizer.texts_to_sequences(X_test)\n",
        "test_sequences = pad_sequences(test_sequences, maxlen= max_length, padding= 'post')"
      ],
      "execution_count": 314,
      "outputs": []
    },
    {
      "cell_type": "code",
      "metadata": {
        "id": "bx2-ZL8FmTll"
      },
      "source": [
        "y_train = np.array(y_train)\n",
        "y_test = np.array(y_test)"
      ],
      "execution_count": 350,
      "outputs": []
    },
    {
      "cell_type": "markdown",
      "metadata": {
        "id": "DrxFm_PFOl30"
      },
      "source": [
        "Creating the Model, using Embedding Layer and Bidirectional LSTM."
      ]
    },
    {
      "cell_type": "code",
      "metadata": {
        "colab": {
          "base_uri": "https://localhost:8080/"
        },
        "id": "brj-3KxpqimC",
        "outputId": "318eb7dc-a355-4fcb-8832-1322611628b7"
      },
      "source": [
        "vocab_size = 8000\n",
        "embedding_dim = 100\n",
        "model = tf.keras.Sequential([\n",
        "    tf.keras.layers.Embedding(vocab_size, embedding_dim, input_length = max_length),\n",
        "    tf.keras.layers.Bidirectional(tf.keras.layers.LSTM(128, return_sequences= True)),\n",
        "    tf.keras.layers.Bidirectional(tf.keras.layers.LSTM(64, return_sequences = True)),\n",
        "    tf.keras.layers.Bidirectional(tf.keras.layers.LSTM(64)),\n",
        "    tf.keras.layers.Dense(128, activation = 'relu'),\n",
        "    tf.keras.layers.Dense(64, activation = 'relu'),\n",
        "    tf.keras.layers.Dropout(0.4),\n",
        "    tf.keras.layers.Dense(32, activation = 'relu'),\n",
        "    tf.keras.layers.Dropout(0.3),\n",
        "    tf.keras.layers.Dense(16, activation = 'relu'),\n",
        "    tf.keras.layers.Dense(1, activation = 'sigmoid')\n",
        "])\n",
        "model.compile(optimizer = 'adam', loss ='binary_crossentropy', metrics = ['accuracy'])\n",
        "model.summary()"
      ],
      "execution_count": 318,
      "outputs": [
        {
          "output_type": "stream",
          "text": [
            "Model: \"sequential_18\"\n",
            "_________________________________________________________________\n",
            "Layer (type)                 Output Shape              Param #   \n",
            "=================================================================\n",
            "embedding_15 (Embedding)     (None, 25, 100)           800000    \n",
            "_________________________________________________________________\n",
            "bidirectional_17 (Bidirectio (None, 25, 256)           234496    \n",
            "_________________________________________________________________\n",
            "bidirectional_18 (Bidirectio (None, 25, 128)           164352    \n",
            "_________________________________________________________________\n",
            "bidirectional_19 (Bidirectio (None, 128)               98816     \n",
            "_________________________________________________________________\n",
            "dense_78 (Dense)             (None, 128)               16512     \n",
            "_________________________________________________________________\n",
            "dense_79 (Dense)             (None, 64)                8256      \n",
            "_________________________________________________________________\n",
            "dropout_28 (Dropout)         (None, 64)                0         \n",
            "_________________________________________________________________\n",
            "dense_80 (Dense)             (None, 32)                2080      \n",
            "_________________________________________________________________\n",
            "dropout_29 (Dropout)         (None, 32)                0         \n",
            "_________________________________________________________________\n",
            "dense_81 (Dense)             (None, 16)                528       \n",
            "_________________________________________________________________\n",
            "dense_82 (Dense)             (None, 1)                 17        \n",
            "=================================================================\n",
            "Total params: 1,325,057\n",
            "Trainable params: 1,325,057\n",
            "Non-trainable params: 0\n",
            "_________________________________________________________________\n"
          ],
          "name": "stdout"
        }
      ]
    },
    {
      "cell_type": "markdown",
      "metadata": {
        "id": "0vz4hBEKO_vv"
      },
      "source": [
        "Training the Model"
      ]
    },
    {
      "cell_type": "code",
      "metadata": {
        "colab": {
          "base_uri": "https://localhost:8080/"
        },
        "id": "o3zn0vMtte8N",
        "outputId": "4d6a3a50-5102-432d-f683-a3e2a78d560c"
      },
      "source": [
        "model.fit(train_sequences, y_train, epochs = 5, validation_data= (test_sequences, y_test))"
      ],
      "execution_count": 321,
      "outputs": [
        {
          "output_type": "stream",
          "text": [
            "Epoch 1/5\n",
            "140/140 [==============================] - 36s 181ms/step - loss: 0.3083 - accuracy: 0.8844 - val_loss: 0.0670 - val_accuracy: 0.9883\n",
            "Epoch 2/5\n",
            "140/140 [==============================] - 23s 162ms/step - loss: 0.0350 - accuracy: 0.9940 - val_loss: 0.0401 - val_accuracy: 0.9919\n",
            "Epoch 3/5\n",
            "140/140 [==============================] - 22s 160ms/step - loss: 0.0082 - accuracy: 0.9977 - val_loss: 0.0506 - val_accuracy: 0.9910\n",
            "Epoch 4/5\n",
            "140/140 [==============================] - 22s 158ms/step - loss: 0.0062 - accuracy: 0.9984 - val_loss: 0.0841 - val_accuracy: 0.9910\n",
            "Epoch 5/5\n",
            "140/140 [==============================] - 23s 162ms/step - loss: 0.0044 - accuracy: 0.9987 - val_loss: 0.1244 - val_accuracy: 0.9892\n"
          ],
          "name": "stdout"
        },
        {
          "output_type": "execute_result",
          "data": {
            "text/plain": [
              "<tensorflow.python.keras.callbacks.History at 0x7fd9929f90d0>"
            ]
          },
          "metadata": {
            "tags": []
          },
          "execution_count": 321
        }
      ]
    },
    {
      "cell_type": "markdown",
      "metadata": {
        "id": "CfqBtgw9PDcK"
      },
      "source": [
        "Predicting the New Sentences"
      ]
    },
    {
      "cell_type": "code",
      "metadata": {
        "colab": {
          "base_uri": "https://localhost:8080/"
        },
        "id": "tJvyOgz2u70O",
        "outputId": "5292e9b0-adbc-455c-c1db-b77dd015fdcb"
      },
      "source": [
        "test_sentence = 'You won a very Excitting prize, to coolect the prize register soon'\n",
        "sequence = tokenizer.texts_to_sequences([test_sentence])\n",
        "#print(sequence)\n",
        "padded = pad_sequences(sequence, maxlen=max_length, padding= \"post\")\n",
        "#print(padded)\n",
        "print(model.predict(padded)[0][0])\n",
        "if model.predict(padded)[0][0]>0.5:\n",
        "  print(\"It is a Spam\")\n",
        "\n",
        "else:\n",
        "  print(\"It is not a Spam\")"
      ],
      "execution_count": 330,
      "outputs": [
        {
          "output_type": "stream",
          "text": [
            "0.6205792\n",
            "It is a Spam\n"
          ],
          "name": "stdout"
        }
      ]
    },
    {
      "cell_type": "code",
      "metadata": {
        "id": "bqr6vcPy4crJ"
      },
      "source": [
        "def predict_sentence(text):\n",
        "  test_sentence = text\n",
        "  sequence = tokenizer.texts_to_sequences([test_sentence])\n",
        "  padded = pad_sequences(sequence, maxlen=max_length, padding= \"post\")\n",
        "  #print(model.predict(padded)[0][0])\n",
        "  if model.predict(padded)[0][0]>0.5:\n",
        "    print(\"It is a Spam Sentence\")\n",
        "\n",
        "  else:\n",
        "    print(\"It is not a Spam Sentence\")"
      ],
      "execution_count": 345,
      "outputs": []
    },
    {
      "cell_type": "code",
      "metadata": {
        "colab": {
          "base_uri": "https://localhost:8080/"
        },
        "id": "e8hdEHg3Ek7-",
        "outputId": "be654c7f-a957-48ff-d082-e6bac3f9425f"
      },
      "source": [
        "predict_sentence('You won a very Excitting prize, to collect the prize register soon')"
      ],
      "execution_count": 348,
      "outputs": [
        {
          "output_type": "stream",
          "text": [
            "It is a Spam Sentence\n"
          ],
          "name": "stdout"
        }
      ]
    },
    {
      "cell_type": "code",
      "metadata": {
        "colab": {
          "base_uri": "https://localhost:8080/"
        },
        "id": "Y-m-LkuGEpgI",
        "outputId": "cf1706d6-fd17-4776-afa6-e616a5b30350"
      },
      "source": [
        "predict_sentence('Hey, I just texted to know whether you are doing okay !')"
      ],
      "execution_count": 349,
      "outputs": [
        {
          "output_type": "stream",
          "text": [
            "It is not a Spam Sentence\n"
          ],
          "name": "stdout"
        }
      ]
    },
    {
      "cell_type": "code",
      "metadata": {
        "id": "08KsesvdExad"
      },
      "source": [
        ""
      ],
      "execution_count": null,
      "outputs": []
    }
  ]
}